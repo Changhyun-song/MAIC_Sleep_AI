{
 "cells": [
  {
   "cell_type": "code",
   "execution_count": 53,
   "metadata": {},
   "outputs": [],
   "source": [
    "import pandas as pd\n",
    "import numpy as np\n",
    "import torch\n",
    "from sklearn import metrics"
   ]
  },
  {
   "cell_type": "code",
   "execution_count": 229,
   "metadata": {},
   "outputs": [],
   "source": [
    "df_all = pd.read_csv(\"valval_gt_all.csv\")"
   ]
  },
  {
   "cell_type": "code",
   "execution_count": 230,
   "metadata": {},
   "outputs": [
    {
     "data": {
      "text/html": [
       "<div>\n",
       "<style scoped>\n",
       "    .dataframe tbody tr th:only-of-type {\n",
       "        vertical-align: middle;\n",
       "    }\n",
       "\n",
       "    .dataframe tbody tr th {\n",
       "        vertical-align: top;\n",
       "    }\n",
       "\n",
       "    .dataframe thead th {\n",
       "        text-align: right;\n",
       "    }\n",
       "</style>\n",
       "<table border=\"1\" class=\"dataframe\">\n",
       "  <thead>\n",
       "    <tr style=\"text-align: right;\">\n",
       "      <th></th>\n",
       "      <th>case</th>\n",
       "      <th>epoch</th>\n",
       "      <th>answer</th>\n",
       "    </tr>\n",
       "  </thead>\n",
       "  <tbody>\n",
       "    <tr>\n",
       "      <th>0</th>\n",
       "      <td>A2020-EM-01-0001</td>\n",
       "      <td>1</td>\n",
       "      <td>Wake</td>\n",
       "    </tr>\n",
       "    <tr>\n",
       "      <th>1</th>\n",
       "      <td>A2020-EM-01-0001</td>\n",
       "      <td>2</td>\n",
       "      <td>Wake</td>\n",
       "    </tr>\n",
       "    <tr>\n",
       "      <th>2</th>\n",
       "      <td>A2020-EM-01-0001</td>\n",
       "      <td>3</td>\n",
       "      <td>Wake</td>\n",
       "    </tr>\n",
       "    <tr>\n",
       "      <th>3</th>\n",
       "      <td>A2020-EM-01-0001</td>\n",
       "      <td>4</td>\n",
       "      <td>Wake</td>\n",
       "    </tr>\n",
       "    <tr>\n",
       "      <th>4</th>\n",
       "      <td>A2020-EM-01-0001</td>\n",
       "      <td>5</td>\n",
       "      <td>Wake</td>\n",
       "    </tr>\n",
       "    <tr>\n",
       "      <th>...</th>\n",
       "      <td>...</td>\n",
       "      <td>...</td>\n",
       "      <td>...</td>\n",
       "    </tr>\n",
       "    <tr>\n",
       "      <th>132778</th>\n",
       "      <td>A2021-EM-01-0170</td>\n",
       "      <td>838</td>\n",
       "      <td>Light Sleep</td>\n",
       "    </tr>\n",
       "    <tr>\n",
       "      <th>132779</th>\n",
       "      <td>A2021-EM-01-0170</td>\n",
       "      <td>839</td>\n",
       "      <td>Light Sleep</td>\n",
       "    </tr>\n",
       "    <tr>\n",
       "      <th>132780</th>\n",
       "      <td>A2021-EM-01-0170</td>\n",
       "      <td>840</td>\n",
       "      <td>Light Sleep</td>\n",
       "    </tr>\n",
       "    <tr>\n",
       "      <th>132781</th>\n",
       "      <td>A2021-EM-01-0170</td>\n",
       "      <td>841</td>\n",
       "      <td>Wake</td>\n",
       "    </tr>\n",
       "    <tr>\n",
       "      <th>132782</th>\n",
       "      <td>A2021-EM-01-0170</td>\n",
       "      <td>842</td>\n",
       "      <td>Wake</td>\n",
       "    </tr>\n",
       "  </tbody>\n",
       "</table>\n",
       "<p>132783 rows × 3 columns</p>\n",
       "</div>"
      ],
      "text/plain": [
       "                    case  epoch       answer\n",
       "0       A2020-EM-01-0001      1         Wake\n",
       "1       A2020-EM-01-0001      2         Wake\n",
       "2       A2020-EM-01-0001      3         Wake\n",
       "3       A2020-EM-01-0001      4         Wake\n",
       "4       A2020-EM-01-0001      5         Wake\n",
       "...                  ...    ...          ...\n",
       "132778  A2021-EM-01-0170    838  Light Sleep\n",
       "132779  A2021-EM-01-0170    839  Light Sleep\n",
       "132780  A2021-EM-01-0170    840  Light Sleep\n",
       "132781  A2021-EM-01-0170    841         Wake\n",
       "132782  A2021-EM-01-0170    842         Wake\n",
       "\n",
       "[132783 rows x 3 columns]"
      ]
     },
     "execution_count": 230,
     "metadata": {},
     "output_type": "execute_result"
    }
   ],
   "source": [
    "df_all"
   ]
  },
  {
   "cell_type": "code",
   "execution_count": 250,
   "metadata": {},
   "outputs": [],
   "source": [
    "case_lst = list(df_all.case.value_counts().index)"
   ]
  },
  {
   "cell_type": "code",
   "execution_count": 278,
   "metadata": {},
   "outputs": [],
   "source": [
    "case_lst = list(df[\"Video_name\"].value_counts().index)"
   ]
  },
  {
   "cell_type": "code",
   "execution_count": 232,
   "metadata": {},
   "outputs": [],
   "source": [
    "ref_all = list(df_all[\"answer\"].map({\"Wake\": 2, \"Light Sleep\": 1, \"Deep Sleep\": 0}))"
   ]
  },
  {
   "cell_type": "code",
   "execution_count": null,
   "metadata": {},
   "outputs": [],
   "source": [
    "df_all.answer"
   ]
  },
  {
   "cell_type": "code",
   "execution_count": 231,
   "metadata": {},
   "outputs": [
    {
     "data": {
      "text/plain": [
       "A2021-EM-01-0018    1177\n",
       "A2021-EM-01-0076    1150\n",
       "A2020-EM-01-0116    1073\n",
       "A2020-EM-01-0066    1002\n",
       "A2020-EM-01-0057     987\n",
       "                    ... \n",
       "A2021-EM-01-0074     684\n",
       "A2021-EM-01-0116     673\n",
       "A2021-EM-01-0165     646\n",
       "A2021-EM-01-0132     593\n",
       "A2021-EM-01-0006     554\n",
       "Name: case, Length: 160, dtype: int64"
      ]
     },
     "execution_count": 231,
     "metadata": {},
     "output_type": "execute_result"
    }
   ],
   "source": [
    "df_all.case.value_counts()"
   ]
  },
  {
   "cell_type": "code",
   "execution_count": 280,
   "metadata": {},
   "outputs": [],
   "source": [
    "tmp = list(df[\"Video_name\"].value_counts())"
   ]
  },
  {
   "cell_type": "code",
   "execution_count": 281,
   "metadata": {},
   "outputs": [],
   "source": [
    "import random"
   ]
  },
  {
   "cell_type": "code",
   "execution_count": 282,
   "metadata": {},
   "outputs": [],
   "source": [
    "pick = [\"Light Sleep\", \"Deep Sleep\", \"Wake\"]"
   ]
  },
  {
   "cell_type": "code",
   "execution_count": 6,
   "metadata": {},
   "outputs": [],
   "source": [
    "pred = np.load(\"predicted_values_max_v008.npy\", allow_pickle=True)"
   ]
  },
  {
   "cell_type": "code",
   "execution_count": 55,
   "metadata": {},
   "outputs": [
    {
     "data": {
      "text/plain": [
       "(32888,)"
      ]
     },
     "execution_count": 55,
     "metadata": {},
     "output_type": "execute_result"
    }
   ],
   "source": [
    "pred.shape"
   ]
  },
  {
   "cell_type": "code",
   "execution_count": 24,
   "metadata": {},
   "outputs": [],
   "source": [
    "pred_cpu = [np.array(x.to('cpu')) for x in pred]"
   ]
  },
  {
   "cell_type": "code",
   "execution_count": 28,
   "metadata": {},
   "outputs": [],
   "source": [
    "pred_arr = np.array(pred_cpu)"
   ]
  },
  {
   "cell_type": "code",
   "execution_count": 35,
   "metadata": {},
   "outputs": [
    {
     "data": {
      "text/plain": [
       "array([[[0.2081236 , 0.24465135, 0.2472251 ]],\n",
       "\n",
       "       [[0.3081236 , 0.34465134, 0.3472251 ]],\n",
       "\n",
       "       [[0.3081236 , 0.34465134, 0.3472251 ]],\n",
       "\n",
       "       ...,\n",
       "\n",
       "       [[0.30905685, 0.37891775, 0.31202537]],\n",
       "\n",
       "       [[0.30905685, 0.37891775, 0.31202537]],\n",
       "\n",
       "       [[0.30905685, 0.37891775, 0.31202537]]], dtype=float32)"
      ]
     },
     "execution_count": 35,
     "metadata": {},
     "output_type": "execute_result"
    }
   ],
   "source": [
    "pred_arr"
   ]
  },
  {
   "cell_type": "code",
   "execution_count": 34,
   "metadata": {},
   "outputs": [],
   "source": [
    "pred_arr_t = pred_arr.reshape(32888, 3)"
   ]
  },
  {
   "cell_type": "code",
   "execution_count": 36,
   "metadata": {},
   "outputs": [
    {
     "data": {
      "text/plain": [
       "array([[0.2081236 , 0.24465135, 0.2472251 ],\n",
       "       [0.3081236 , 0.34465134, 0.3472251 ],\n",
       "       [0.3081236 , 0.34465134, 0.3472251 ],\n",
       "       ...,\n",
       "       [0.30905685, 0.37891775, 0.31202537],\n",
       "       [0.30905685, 0.37891775, 0.31202537],\n",
       "       [0.30905685, 0.37891775, 0.31202537]], dtype=float32)"
      ]
     },
     "execution_count": 36,
     "metadata": {},
     "output_type": "execute_result"
    }
   ],
   "source": [
    "pred_arr_t"
   ]
  },
  {
   "cell_type": "code",
   "execution_count": 57,
   "metadata": {},
   "outputs": [],
   "source": [
    "pred_tem = np.zeros(((32891, 3)))"
   ]
  },
  {
   "cell_type": "code",
   "execution_count": 88,
   "metadata": {},
   "outputs": [],
   "source": [
    "pred_tem[:32888] = pred_arr_t"
   ]
  },
  {
   "cell_type": "code",
   "execution_count": 89,
   "metadata": {},
   "outputs": [],
   "source": [
    "pred_tem[-3:] = np.array([[0.30905685, 0.37891775, 0.31202537],\n",
    "                           [0.30905685, 0.37891775, 0.31202537],\n",
    "                           [0.30905685, 0.37891775, 0.31202537]])"
   ]
  },
  {
   "cell_type": "code",
   "execution_count": 90,
   "metadata": {},
   "outputs": [
    {
     "data": {
      "text/plain": [
       "array([[0.20812359, 0.24465135, 0.24722511],\n",
       "       [0.30812359, 0.34465134, 0.3472251 ],\n",
       "       [0.30812359, 0.34465134, 0.3472251 ],\n",
       "       ...,\n",
       "       [0.30905685, 0.37891775, 0.31202537],\n",
       "       [0.30905685, 0.37891775, 0.31202537],\n",
       "       [0.30905685, 0.37891775, 0.31202537]])"
      ]
     },
     "execution_count": 90,
     "metadata": {},
     "output_type": "execute_result"
    }
   ],
   "source": [
    "pred_tem"
   ]
  },
  {
   "cell_type": "code",
   "execution_count": 68,
   "metadata": {},
   "outputs": [],
   "source": [
    "pred_class = np.argmax(pred_tem, axis=-1)"
   ]
  },
  {
   "cell_type": "code",
   "execution_count": 69,
   "metadata": {},
   "outputs": [
    {
     "data": {
      "text/plain": [
       "array([2, 2, 2, ..., 1, 1, 1])"
      ]
     },
     "execution_count": 69,
     "metadata": {},
     "output_type": "execute_result"
    }
   ],
   "source": [
    "pred_class"
   ]
  },
  {
   "cell_type": "code",
   "execution_count": 226,
   "metadata": {},
   "outputs": [],
   "source": [
    "df_v = pd.read_csv(\"valval_gt.csv\")"
   ]
  },
  {
   "cell_type": "code",
   "execution_count": 227,
   "metadata": {},
   "outputs": [
    {
     "data": {
      "text/html": [
       "<div>\n",
       "<style scoped>\n",
       "    .dataframe tbody tr th:only-of-type {\n",
       "        vertical-align: middle;\n",
       "    }\n",
       "\n",
       "    .dataframe tbody tr th {\n",
       "        vertical-align: top;\n",
       "    }\n",
       "\n",
       "    .dataframe thead th {\n",
       "        text-align: right;\n",
       "    }\n",
       "</style>\n",
       "<table border=\"1\" class=\"dataframe\">\n",
       "  <thead>\n",
       "    <tr style=\"text-align: right;\">\n",
       "      <th></th>\n",
       "      <th>Case</th>\n",
       "      <th>Start_Epoch</th>\n",
       "      <th>answer</th>\n",
       "    </tr>\n",
       "  </thead>\n",
       "  <tbody>\n",
       "    <tr>\n",
       "      <th>0</th>\n",
       "      <td>A2021-EM-01-0169</td>\n",
       "      <td>580</td>\n",
       "      <td>Deep Sleep</td>\n",
       "    </tr>\n",
       "    <tr>\n",
       "      <th>1</th>\n",
       "      <td>A2021-EM-01-0169</td>\n",
       "      <td>581</td>\n",
       "      <td>Deep Sleep</td>\n",
       "    </tr>\n",
       "    <tr>\n",
       "      <th>2</th>\n",
       "      <td>A2021-EM-01-0169</td>\n",
       "      <td>582</td>\n",
       "      <td>Light Sleep</td>\n",
       "    </tr>\n",
       "    <tr>\n",
       "      <th>3</th>\n",
       "      <td>A2021-EM-01-0169</td>\n",
       "      <td>583</td>\n",
       "      <td>Light Sleep</td>\n",
       "    </tr>\n",
       "    <tr>\n",
       "      <th>4</th>\n",
       "      <td>A2021-EM-01-0169</td>\n",
       "      <td>584</td>\n",
       "      <td>Light Sleep</td>\n",
       "    </tr>\n",
       "    <tr>\n",
       "      <th>...</th>\n",
       "      <td>...</td>\n",
       "      <td>...</td>\n",
       "      <td>...</td>\n",
       "    </tr>\n",
       "    <tr>\n",
       "      <th>994</th>\n",
       "      <td>A2021-EM-01-0170</td>\n",
       "      <td>837</td>\n",
       "      <td>Light Sleep</td>\n",
       "    </tr>\n",
       "    <tr>\n",
       "      <th>995</th>\n",
       "      <td>A2021-EM-01-0170</td>\n",
       "      <td>838</td>\n",
       "      <td>Light Sleep</td>\n",
       "    </tr>\n",
       "    <tr>\n",
       "      <th>996</th>\n",
       "      <td>A2021-EM-01-0170</td>\n",
       "      <td>839</td>\n",
       "      <td>Light Sleep</td>\n",
       "    </tr>\n",
       "    <tr>\n",
       "      <th>997</th>\n",
       "      <td>A2021-EM-01-0170</td>\n",
       "      <td>840</td>\n",
       "      <td>Light Sleep</td>\n",
       "    </tr>\n",
       "    <tr>\n",
       "      <th>998</th>\n",
       "      <td>A2021-EM-01-0170</td>\n",
       "      <td>841</td>\n",
       "      <td>Wake</td>\n",
       "    </tr>\n",
       "  </tbody>\n",
       "</table>\n",
       "<p>999 rows × 3 columns</p>\n",
       "</div>"
      ],
      "text/plain": [
       "                 Case  Start_Epoch       answer\n",
       "0    A2021-EM-01-0169          580   Deep Sleep\n",
       "1    A2021-EM-01-0169          581   Deep Sleep\n",
       "2    A2021-EM-01-0169          582  Light Sleep\n",
       "3    A2021-EM-01-0169          583  Light Sleep\n",
       "4    A2021-EM-01-0169          584  Light Sleep\n",
       "..                ...          ...          ...\n",
       "994  A2021-EM-01-0170          837  Light Sleep\n",
       "995  A2021-EM-01-0170          838  Light Sleep\n",
       "996  A2021-EM-01-0170          839  Light Sleep\n",
       "997  A2021-EM-01-0170          840  Light Sleep\n",
       "998  A2021-EM-01-0170          841         Wake\n",
       "\n",
       "[999 rows x 3 columns]"
      ]
     },
     "execution_count": 227,
     "metadata": {},
     "output_type": "execute_result"
    }
   ],
   "source": [
    "df_v"
   ]
  },
  {
   "cell_type": "code",
   "execution_count": 46,
   "metadata": {},
   "outputs": [
    {
     "data": {
      "text/html": [
       "<div>\n",
       "<style scoped>\n",
       "    .dataframe tbody tr th:only-of-type {\n",
       "        vertical-align: middle;\n",
       "    }\n",
       "\n",
       "    .dataframe tbody tr th {\n",
       "        vertical-align: top;\n",
       "    }\n",
       "\n",
       "    .dataframe thead th {\n",
       "        text-align: right;\n",
       "    }\n",
       "</style>\n",
       "<table border=\"1\" class=\"dataframe\">\n",
       "  <thead>\n",
       "    <tr style=\"text-align: right;\">\n",
       "      <th></th>\n",
       "      <th>Video_name</th>\n",
       "      <th>epoch</th>\n",
       "      <th>answer</th>\n",
       "    </tr>\n",
       "  </thead>\n",
       "  <tbody>\n",
       "    <tr>\n",
       "      <th>0</th>\n",
       "      <td>A2020-EM-01-0005</td>\n",
       "      <td>1</td>\n",
       "      <td>Wake</td>\n",
       "    </tr>\n",
       "    <tr>\n",
       "      <th>1</th>\n",
       "      <td>A2020-EM-01-0005</td>\n",
       "      <td>2</td>\n",
       "      <td>Wake</td>\n",
       "    </tr>\n",
       "    <tr>\n",
       "      <th>2</th>\n",
       "      <td>A2020-EM-01-0005</td>\n",
       "      <td>3</td>\n",
       "      <td>Wake</td>\n",
       "    </tr>\n",
       "    <tr>\n",
       "      <th>3</th>\n",
       "      <td>A2020-EM-01-0005</td>\n",
       "      <td>4</td>\n",
       "      <td>Light Sleep</td>\n",
       "    </tr>\n",
       "    <tr>\n",
       "      <th>4</th>\n",
       "      <td>A2020-EM-01-0005</td>\n",
       "      <td>5</td>\n",
       "      <td>Light Sleep</td>\n",
       "    </tr>\n",
       "    <tr>\n",
       "      <th>...</th>\n",
       "      <td>...</td>\n",
       "      <td>...</td>\n",
       "      <td>...</td>\n",
       "    </tr>\n",
       "    <tr>\n",
       "      <th>32886</th>\n",
       "      <td>A2021-EM-01-0163</td>\n",
       "      <td>930</td>\n",
       "      <td>Deep Sleep</td>\n",
       "    </tr>\n",
       "    <tr>\n",
       "      <th>32887</th>\n",
       "      <td>A2021-EM-01-0163</td>\n",
       "      <td>931</td>\n",
       "      <td>Deep Sleep</td>\n",
       "    </tr>\n",
       "    <tr>\n",
       "      <th>32888</th>\n",
       "      <td>A2021-EM-01-0163</td>\n",
       "      <td>932</td>\n",
       "      <td>Deep Sleep</td>\n",
       "    </tr>\n",
       "    <tr>\n",
       "      <th>32889</th>\n",
       "      <td>A2021-EM-01-0163</td>\n",
       "      <td>933</td>\n",
       "      <td>Deep Sleep</td>\n",
       "    </tr>\n",
       "    <tr>\n",
       "      <th>32890</th>\n",
       "      <td>A2021-EM-01-0163</td>\n",
       "      <td>934</td>\n",
       "      <td>Wake</td>\n",
       "    </tr>\n",
       "  </tbody>\n",
       "</table>\n",
       "<p>32891 rows × 3 columns</p>\n",
       "</div>"
      ],
      "text/plain": [
       "             Video_name  epoch       answer\n",
       "0      A2020-EM-01-0005      1         Wake\n",
       "1      A2020-EM-01-0005      2         Wake\n",
       "2      A2020-EM-01-0005      3         Wake\n",
       "3      A2020-EM-01-0005      4  Light Sleep\n",
       "4      A2020-EM-01-0005      5  Light Sleep\n",
       "...                 ...    ...          ...\n",
       "32886  A2021-EM-01-0163    930   Deep Sleep\n",
       "32887  A2021-EM-01-0163    931   Deep Sleep\n",
       "32888  A2021-EM-01-0163    932   Deep Sleep\n",
       "32889  A2021-EM-01-0163    933   Deep Sleep\n",
       "32890  A2021-EM-01-0163    934         Wake\n",
       "\n",
       "[32891 rows x 3 columns]"
      ]
     },
     "execution_count": 46,
     "metadata": {},
     "output_type": "execute_result"
    }
   ],
   "source": [
    "df"
   ]
  },
  {
   "cell_type": "code",
   "execution_count": 117,
   "metadata": {},
   "outputs": [],
   "source": [
    "idx_n = list(df.Video_name.value_counts())"
   ]
  },
  {
   "cell_type": "code",
   "execution_count": 76,
   "metadata": {},
   "outputs": [],
   "source": [
    "ref = list(df[\"answer\"].map({\"Wake\": 2, \"Light Sleep\": 1, \"Deep Sleep\": 0}))"
   ]
  },
  {
   "cell_type": "code",
   "execution_count": 77,
   "metadata": {},
   "outputs": [
    {
     "data": {
      "text/plain": [
       "0.33487324579668293"
      ]
     },
     "execution_count": 77,
     "metadata": {},
     "output_type": "execute_result"
    }
   ],
   "source": [
    "metrics.f1_score(ref, pred_class, average='macro')"
   ]
  },
  {
   "cell_type": "code",
   "execution_count": 78,
   "metadata": {},
   "outputs": [
    {
     "data": {
      "text/plain": [
       "array([[0.20812359, 0.24465135, 0.24722511],\n",
       "       [0.30812359, 0.34465134, 0.3472251 ],\n",
       "       [0.30812359, 0.34465134, 0.3472251 ],\n",
       "       ...,\n",
       "       [0.30905685, 0.37891775, 0.31202537],\n",
       "       [0.30905685, 0.37891775, 0.31202537],\n",
       "       [0.30905685, 0.37891775, 0.31202537]])"
      ]
     },
     "execution_count": 78,
     "metadata": {},
     "output_type": "execute_result"
    }
   ],
   "source": [
    "pred_tem"
   ]
  },
  {
   "cell_type": "code",
   "execution_count": 103,
   "metadata": {},
   "outputs": [],
   "source": [
    "from tqdm import tqdm"
   ]
  },
  {
   "cell_type": "code",
   "execution_count": 119,
   "metadata": {},
   "outputs": [
    {
     "data": {
      "text/plain": [
       "[957,\n",
       " 954,\n",
       " 954,\n",
       " 934,\n",
       " 933,\n",
       " 922,\n",
       " 881,\n",
       " 870,\n",
       " 868,\n",
       " 858,\n",
       " 856,\n",
       " 855,\n",
       " 853,\n",
       " 853,\n",
       " 845,\n",
       " 839,\n",
       " 838,\n",
       " 838,\n",
       " 834,\n",
       " 834,\n",
       " 832,\n",
       " 830,\n",
       " 820,\n",
       " 813,\n",
       " 803,\n",
       " 788,\n",
       " 787,\n",
       " 782,\n",
       " 781,\n",
       " 775,\n",
       " 765,\n",
       " 764,\n",
       " 757,\n",
       " 748,\n",
       " 748,\n",
       " 728,\n",
       " 727,\n",
       " 715,\n",
       " 694,\n",
       " 658]"
      ]
     },
     "execution_count": 119,
     "metadata": {},
     "output_type": "execute_result"
    }
   ],
   "source": [
    "idx_n"
   ]
  },
  {
   "cell_type": "code",
   "execution_count": 122,
   "metadata": {},
   "outputs": [],
   "source": [
    "t_lst = []\n",
    "for idx in range(len(idx_n)):\n",
    "    if idx == 0:\n",
    "        t_lst.append(idx_n[idx])\n",
    "    else:\n",
    "        t_lst.append(idx_n[idx]+t_lst[idx-1])"
   ]
  },
  {
   "cell_type": "code",
   "execution_count": 123,
   "metadata": {},
   "outputs": [
    {
     "data": {
      "text/plain": [
       "[957,\n",
       " 1911,\n",
       " 2865,\n",
       " 3799,\n",
       " 4732,\n",
       " 5654,\n",
       " 6535,\n",
       " 7405,\n",
       " 8273,\n",
       " 9131,\n",
       " 9987,\n",
       " 10842,\n",
       " 11695,\n",
       " 12548,\n",
       " 13393,\n",
       " 14232,\n",
       " 15070,\n",
       " 15908,\n",
       " 16742,\n",
       " 17576,\n",
       " 18408,\n",
       " 19238,\n",
       " 20058,\n",
       " 20871,\n",
       " 21674,\n",
       " 22462,\n",
       " 23249,\n",
       " 24031,\n",
       " 24812,\n",
       " 25587,\n",
       " 26352,\n",
       " 27116,\n",
       " 27873,\n",
       " 28621,\n",
       " 29369,\n",
       " 30097,\n",
       " 30824,\n",
       " 31539,\n",
       " 32233,\n",
       " 32891]"
      ]
     },
     "execution_count": 123,
     "metadata": {},
     "output_type": "execute_result"
    }
   ],
   "source": [
    "t_lst"
   ]
  },
  {
   "cell_type": "code",
   "execution_count": 203,
   "metadata": {},
   "outputs": [],
   "source": [
    "def adaptive_weight(seg, i, j, k, ratio):\n",
    "    th_arr = np.zeros(np.shape(seg))\n",
    "\n",
    "    deepw = 1 + ratio*i\n",
    "    lightw = 1 + ratio*j\n",
    "    wakew = 1 + ratio*k\n",
    "\n",
    "    th_arr[:, 0] = seg[:, 0]*deepw\n",
    "    th_arr[:, 1] = seg[:, 1]*lightw\n",
    "    th_arr[:, 2] = seg[:, 2]*wakew\n",
    "    \n",
    "    return th_arr"
   ]
  },
  {
   "cell_type": "code",
   "execution_count": 224,
   "metadata": {},
   "outputs": [
    {
     "name": "stdout",
     "output_type": "stream",
     "text": [
      "update! at  0 0 0\n",
      "update! at  0 0 1\n",
      "update! at  0 0 2\n",
      "update! at  0 3 8\n",
      "update! at  0 8 19\n",
      "update! at  1 0 0\n",
      "update! at  3 1 0\n",
      "update! at  5 2 1\n",
      "update! at  6 2 0\n",
      "update! at  6 2 1\n",
      "update! at  9 4 15\n",
      "update! at  14 6 0\n",
      "update! at  14 6 3\n",
      "update! at  16 7 0\n",
      "update! at  16 7 4\n",
      "update! at  16 7 8\n",
      "update! at  18 8 9\n"
     ]
    }
   ],
   "source": [
    "best_score = 0\n",
    "a = 20\n",
    "\n",
    "for i in range(a):\n",
    "    for k in range(a):\n",
    "        for j in range(a):\n",
    "            final_lst = []\n",
    "            for t in range(len(t_lst)):\n",
    "                if t == 0:\n",
    "                    segment = th_arr[:t_lst[t]]\n",
    "                else:\n",
    "                    segment = th_arr[t_lst[t-1]:t_lst[t]]\n",
    "\n",
    "                seg1 = segment[:len(segment)//10]\n",
    "                seg2 = segment[len(segment)//10:-len(segment)//10]\n",
    "                seg3 = segment[-len(segment)//10:]\n",
    "\n",
    "                th1 = adaptive_weight(seg1, 10, 6, 15, 1)\n",
    "                th2 = adaptive_weight(seg2, 8, 13, 15, 1)\n",
    "                th3 = adaptive_weight(seg3, 18, 8, 9, 1)\n",
    "\n",
    "                cls1 = list(np.argmax(th1, axis=-1))\n",
    "                cls2 = list(np.argmax(th2, axis=-1))\n",
    "                cls3 = list(np.argmax(th3, axis=-1))\n",
    "\n",
    "\n",
    "                final_lst.append(list(cls1))\n",
    "                final_lst.append(list(cls2))\n",
    "                final_lst.append(list(cls3))\n",
    "\n",
    "            flat_list = []\n",
    "            for sublist in final_lst:\n",
    "                for item in sublist:\n",
    "                    flat_list.append(item)\n",
    "\n",
    "            score = metrics.f1_score(ref, flat_list, average='macro')\n",
    "            if score > best_score:\n",
    "                best_score = score.copy()\n",
    "                print(\"update! at \", i, j, k)\n",
    "                best_set = {\"deepw\": i, \"lightw\": j, \"wakew\": k}"
   ]
  },
  {
   "cell_type": "code",
   "execution_count": 235,
   "metadata": {},
   "outputs": [],
   "source": [
    "df_csv = df.copy()"
   ]
  },
  {
   "cell_type": "code",
   "execution_count": 239,
   "metadata": {},
   "outputs": [],
   "source": [
    "ans_th = list(df_csv[\"answer\"].map({2: \"Wake\", 1: \"Light Sleep\", 0: \"Deep Sleep\"}))"
   ]
  },
  {
   "cell_type": "code",
   "execution_count": 241,
   "metadata": {},
   "outputs": [],
   "source": [
    "df_csv.answer = ans_th"
   ]
  },
  {
   "cell_type": "code",
   "execution_count": 244,
   "metadata": {},
   "outputs": [],
   "source": [
    "df_csv.to_csv(\"008_th.csv\", index=False)"
   ]
  },
  {
   "cell_type": "code",
   "execution_count": 245,
   "metadata": {},
   "outputs": [
    {
     "data": {
      "text/html": [
       "<div>\n",
       "<style scoped>\n",
       "    .dataframe tbody tr th:only-of-type {\n",
       "        vertical-align: middle;\n",
       "    }\n",
       "\n",
       "    .dataframe tbody tr th {\n",
       "        vertical-align: top;\n",
       "    }\n",
       "\n",
       "    .dataframe thead th {\n",
       "        text-align: right;\n",
       "    }\n",
       "</style>\n",
       "<table border=\"1\" class=\"dataframe\">\n",
       "  <thead>\n",
       "    <tr style=\"text-align: right;\">\n",
       "      <th></th>\n",
       "      <th>Video_name</th>\n",
       "      <th>epoch</th>\n",
       "      <th>answer</th>\n",
       "    </tr>\n",
       "  </thead>\n",
       "  <tbody>\n",
       "    <tr>\n",
       "      <th>0</th>\n",
       "      <td>A2020-EM-01-0005</td>\n",
       "      <td>1</td>\n",
       "      <td>Wake</td>\n",
       "    </tr>\n",
       "    <tr>\n",
       "      <th>1</th>\n",
       "      <td>A2020-EM-01-0005</td>\n",
       "      <td>2</td>\n",
       "      <td>Wake</td>\n",
       "    </tr>\n",
       "    <tr>\n",
       "      <th>2</th>\n",
       "      <td>A2020-EM-01-0005</td>\n",
       "      <td>3</td>\n",
       "      <td>Wake</td>\n",
       "    </tr>\n",
       "    <tr>\n",
       "      <th>3</th>\n",
       "      <td>A2020-EM-01-0005</td>\n",
       "      <td>4</td>\n",
       "      <td>Wake</td>\n",
       "    </tr>\n",
       "    <tr>\n",
       "      <th>4</th>\n",
       "      <td>A2020-EM-01-0005</td>\n",
       "      <td>5</td>\n",
       "      <td>Wake</td>\n",
       "    </tr>\n",
       "    <tr>\n",
       "      <th>...</th>\n",
       "      <td>...</td>\n",
       "      <td>...</td>\n",
       "      <td>...</td>\n",
       "    </tr>\n",
       "    <tr>\n",
       "      <th>32886</th>\n",
       "      <td>A2021-EM-01-0163</td>\n",
       "      <td>930</td>\n",
       "      <td>Light Sleep</td>\n",
       "    </tr>\n",
       "    <tr>\n",
       "      <th>32887</th>\n",
       "      <td>A2021-EM-01-0163</td>\n",
       "      <td>931</td>\n",
       "      <td>Light Sleep</td>\n",
       "    </tr>\n",
       "    <tr>\n",
       "      <th>32888</th>\n",
       "      <td>A2021-EM-01-0163</td>\n",
       "      <td>932</td>\n",
       "      <td>Light Sleep</td>\n",
       "    </tr>\n",
       "    <tr>\n",
       "      <th>32889</th>\n",
       "      <td>A2021-EM-01-0163</td>\n",
       "      <td>933</td>\n",
       "      <td>Light Sleep</td>\n",
       "    </tr>\n",
       "    <tr>\n",
       "      <th>32890</th>\n",
       "      <td>A2021-EM-01-0163</td>\n",
       "      <td>934</td>\n",
       "      <td>Light Sleep</td>\n",
       "    </tr>\n",
       "  </tbody>\n",
       "</table>\n",
       "<p>32891 rows × 3 columns</p>\n",
       "</div>"
      ],
      "text/plain": [
       "             Video_name  epoch       answer\n",
       "0      A2020-EM-01-0005      1         Wake\n",
       "1      A2020-EM-01-0005      2         Wake\n",
       "2      A2020-EM-01-0005      3         Wake\n",
       "3      A2020-EM-01-0005      4         Wake\n",
       "4      A2020-EM-01-0005      5         Wake\n",
       "...                 ...    ...          ...\n",
       "32886  A2021-EM-01-0163    930  Light Sleep\n",
       "32887  A2021-EM-01-0163    931  Light Sleep\n",
       "32888  A2021-EM-01-0163    932  Light Sleep\n",
       "32889  A2021-EM-01-0163    933  Light Sleep\n",
       "32890  A2021-EM-01-0163    934  Light Sleep\n",
       "\n",
       "[32891 rows x 3 columns]"
      ]
     },
     "execution_count": 245,
     "metadata": {},
     "output_type": "execute_result"
    }
   ],
   "source": [
    "df_csv"
   ]
  },
  {
   "cell_type": "code",
   "execution_count": 225,
   "metadata": {},
   "outputs": [
    {
     "data": {
      "text/plain": [
       "0.3651069313035911"
      ]
     },
     "execution_count": 225,
     "metadata": {},
     "output_type": "execute_result"
    }
   ],
   "source": [
    "best_score"
   ]
  },
  {
   "cell_type": "code",
   "execution_count": 199,
   "metadata": {},
   "outputs": [
    {
     "data": {
      "text/plain": [
       "0.34742682382808177"
      ]
     },
     "execution_count": 199,
     "metadata": {},
     "output_type": "execute_result"
    }
   ],
   "source": [
    "best_score"
   ]
  },
  {
   "cell_type": "code",
   "execution_count": 181,
   "metadata": {},
   "outputs": [],
   "source": [
    "flat_list = []\n",
    "for sublist in final_lst:\n",
    "    for item in sublist:\n",
    "        flat_list.append(item)"
   ]
  },
  {
   "cell_type": "code",
   "execution_count": 182,
   "metadata": {},
   "outputs": [
    {
     "data": {
      "text/plain": [
       "32891"
      ]
     },
     "execution_count": 182,
     "metadata": {},
     "output_type": "execute_result"
    }
   ],
   "source": [
    "len(flat_list)"
   ]
  },
  {
   "cell_type": "code",
   "execution_count": 140,
   "metadata": {},
   "outputs": [
    {
     "data": {
      "text/plain": [
       "120"
      ]
     },
     "execution_count": 140,
     "metadata": {},
     "output_type": "execute_result"
    }
   ],
   "source": [
    "len(final_lst)"
   ]
  },
  {
   "cell_type": "code",
   "execution_count": 112,
   "metadata": {},
   "outputs": [
    {
     "name": "stderr",
     "output_type": "stream",
     "text": [
      "  0%|          | 0/5 [00:00<?, ?it/s]"
     ]
    },
    {
     "name": "stdout",
     "output_type": "stream",
     "text": [
      "update! at  0 0 0\n",
      "update! at  0 1 0\n",
      "update! at  0 2 0\n",
      "update! at  0 3 0\n",
      "update! at  0 4 0\n",
      "update! at  0 5 0\n",
      "update! at  0 6 1\n",
      "update! at  0 7 1\n",
      "update! at  0 26 0\n",
      "update! at  0 26 1\n",
      "update! at  0 27 0\n",
      "update! at  0 27 1\n",
      "update! at  0 28 1\n",
      "update! at  0 29 0\n",
      "update! at  0 30 0\n",
      "update! at  0 33 0\n",
      "update! at  0 34 0\n",
      "update! at  0 34 1\n",
      "update! at  0 36 0\n",
      "update! at  0 36 1\n",
      "update! at  0 37 0\n",
      "update! at  0 37 1\n",
      "update! at  0 38 0\n",
      "update! at  0 39 0\n"
     ]
    },
    {
     "name": "stderr",
     "output_type": "stream",
     "text": [
      "100%|██████████| 5/5 [00:25<00:00,  5.11s/it]\n"
     ]
    }
   ],
   "source": [
    "best_score = 0\n",
    "for i in tqdm(range(5)):\n",
    "    for j in range(50):\n",
    "        for k in range(5):\n",
    "            th_arr = np.zeros(((32891, 3)))\n",
    "\n",
    "            deepw = 1 + 0.01*i\n",
    "            lightw = 1 + 0.002*j\n",
    "            wakew = 1 + 0.01*k\n",
    "\n",
    "            th_arr[:, 0] = pred_tem[:, 0]*deepw\n",
    "            th_arr[:, 1] = pred_tem[:, 1]*lightw\n",
    "            th_arr[:, 2] = pred_tem[:, 2]*wakew\n",
    "\n",
    "            th_class = np.argmax(th_arr, axis=-1)\n",
    "\n",
    "            score = metrics.f1_score(ref, th_class, average='macro')\n",
    "            if score > best_score:\n",
    "                best_score = score.copy()\n",
    "                print(\"update! at \", i, j, k)\n",
    "                best_set = {\"deepw\": i, \"lightw\": j, \"wakew\": k}"
   ]
  },
  {
   "cell_type": "code",
   "execution_count": 113,
   "metadata": {},
   "outputs": [
    {
     "data": {
      "text/plain": [
       "0.34562018267141165"
      ]
     },
     "execution_count": 113,
     "metadata": {},
     "output_type": "execute_result"
    }
   ],
   "source": [
    "best_score"
   ]
  },
  {
   "cell_type": "code",
   "execution_count": 111,
   "metadata": {},
   "outputs": [
    {
     "data": {
      "text/plain": [
       "0.34561688415277714"
      ]
     },
     "execution_count": 111,
     "metadata": {},
     "output_type": "execute_result"
    }
   ],
   "source": [
    "best_score"
   ]
  },
  {
   "cell_type": "code",
   "execution_count": null,
   "metadata": {},
   "outputs": [],
   "source": []
  }
 ],
 "metadata": {
  "kernelspec": {
   "display_name": "Python 3",
   "language": "python",
   "name": "python3"
  },
  "language_info": {
   "codemirror_mode": {
    "name": "ipython",
    "version": 3
   },
   "file_extension": ".py",
   "mimetype": "text/x-python",
   "name": "python",
   "nbconvert_exporter": "python",
   "pygments_lexer": "ipython3",
   "version": "3.6.9"
  }
 },
 "nbformat": 4,
 "nbformat_minor": 4
}
